{
 "cells": [
  {
   "cell_type": "markdown",
   "metadata": {},
   "source": [
    "# Solving neoclassical model with time iteration"
   ]
  },
  {
   "cell_type": "code",
   "execution_count": 1,
   "metadata": {},
   "outputs": [
    {
     "name": "stderr",
     "output_type": "stream",
     "text": [
      "WARNING: using LinearAlgebra.× in module NoLib conflicts with an existing identifier.\n",
      "WARNING: using LinearAlgebra.norm in module NoLib conflicts with an existing identifier.\n"
     ]
    }
   ],
   "source": [
    "using NoLib\n",
    "const NL = NoLib\n",
    "\n",
    "using StaticArrays\n",
    "using LabelledArrays\n",
    "using NoLib: SGrid, CGrid, PGrid, GArray\n",
    "import NoLib: transition, arbitrage\n",
    "import NoLib: ×\n"
   ]
  },
  {
   "cell_type": "markdown",
   "metadata": {},
   "source": [
    "## Define Model\n"
   ]
  },
  {
   "cell_type": "code",
   "execution_count": 2,
   "metadata": {},
   "outputs": [
    {
     "data": {
      "text/plain": [
       "(m = 1-element SLArray{Tuple{1}, Float64, 1, 1, (:z,)} with indices SOneTo(1):\n",
       " :z => 0.0, s = 1-element SLArray{Tuple{1}, Float64, 1, 1, (:k,)} with indices SOneTo(1):\n",
       " :k => 2.920822149964071, x = 1-element SLArray{Tuple{1}, Float64, 1, 1, (:i,)} with indices SOneTo(1):\n",
       " :i => 0.29208221499640713, p = (α = 0.3, β = 0.96, γ = 2.0, δ = 0.1), P = [0.9 0.1; 0.1 0.9], Q = [-0.1; 0.1;;], exo = SGrid{1}(SVector{1, Float64}[[-0.1], [0.1]]), endo = CGrid{1}(((0.1, 5.0, 100),)), grid = PGrid{SGrid{1}, CGrid{1}, 2}(SGrid{1}(SVector{1, Float64}[[-0.1], [0.1]]), CGrid{1}(((0.1, 5.0, 100),)), SVector{2, Float64}[[-0.1, 0.1], [0.1, 0.1], [-0.1, 0.1494949494949495], [0.1, 0.1494949494949495], [-0.1, 0.198989898989899], [0.1, 0.198989898989899], [-0.1, 0.24848484848484848], [0.1, 0.24848484848484848], [-0.1, 0.29797979797979796], [0.1, 0.29797979797979796]  …  [-0.1, 4.802020202020202], [0.1, 4.802020202020202], [-0.1, 4.851515151515152], [0.1, 4.851515151515152], [-0.1, 4.901010101010101], [0.1, 4.901010101010101], [-0.1, 4.9505050505050505], [0.1, 4.9505050505050505], [-0.1, 5.0], [0.1, 5.0]]))"
      ]
     },
     "metadata": {},
     "output_type": "display_data"
    }
   ],
   "source": [
    "\n",
    "\n",
    "model = let \n",
    "\n",
    "    α = 0.3\n",
    "    β = 0.96\n",
    "    γ = 2.0\n",
    "    δ = 0.1\n",
    "\n",
    "    k = ((1/β - (1-δ))/α)^(1/(α-1))\n",
    "    i = δ*k\n",
    "    z = 0.0\n",
    "\n",
    "    p = (;α, β, γ, δ)\n",
    "    \n",
    "    m = SLVector( (; z))\n",
    "    s = SLVector( (; k))\n",
    "    x = SLVector( (; i))\n",
    "\n",
    "    P = @SMatrix [0.9 0.1; 0.1 0.9]\n",
    "    # Q = @SMatrix [-0.05; 0.05]\n",
    "    Q = @SMatrix [-0.1; 0.1]\n",
    "\n",
    "    exo = SGrid( [Q[i,:] for i=1:size(Q,1)] )\n",
    "    endo = CGrid( ((0.1, 5.0, 100),) )\n",
    "    grid = exo × endo\n",
    "\n",
    "\n",
    "    (;m, s, x, p, P, Q, exo, endo, grid)\n",
    "\n",
    "end\n",
    "\n"
   ]
  },
  {
   "cell_type": "code",
   "execution_count": 3,
   "metadata": {},
   "outputs": [
    {
     "data": {
      "text/plain": [
       "arbitrage (generic function with 3 methods)"
      ]
     },
     "metadata": {},
     "output_type": "display_data"
    }
   ],
   "source": [
    "\n",
    "function transition(model::typeof(model), m::SLArray, s::SLArray, x::SLArray, M::SLArray, p)\n",
    "    K = s.k*(1-p.δ) + x.i\n",
    "    return SLVector( (;K) )\n",
    "end\n",
    "\n",
    "function arbitrage(model::typeof(model), m::SLArray, s::SLArray, x::SLArray, M::SLArray, S::SLArray, X::SLArray, p)\n",
    "    c = exp(m.z)*s.k^p.α - x.i\n",
    "    C = exp(M.z)*S.k^p.α - X.i\n",
    "    r = p.β*(C/c)^(-p.γ)*(1-p.δ + p.α*exp(M.z)*S.k^(p.α-1)) - 1\n",
    "    return SLVector( (;r) )\n",
    "end"
   ]
  },
  {
   "cell_type": "markdown",
   "metadata": {},
   "source": [
    "## Solving the model using NoLib\n"
   ]
  },
  {
   "cell_type": "code",
   "execution_count": null,
   "metadata": {},
   "outputs": [],
   "source": [
    "res = NoLib.time_iteration(model;improve=false)\n"
   ]
  },
  {
   "cell_type": "markdown",
   "metadata": {},
   "source": [
    "### Plot decision rule"
   ]
  },
  {
   "cell_type": "code",
   "execution_count": null,
   "metadata": {},
   "outputs": [],
   "source": [
    "φ = res.solution\n",
    "\n",
    "using Plots\n",
    "using NoLib: iti\n",
    "\n",
    "xvec = [e[1] for e in model.grid[2,:]]\n",
    "yvec = [e[1] for e in φ[2,:]]\n",
    "plot(xvec, yvec)\n",
    "\n",
    "# improve the plot....\n"
   ]
  },
  {
   "cell_type": "markdown",
   "metadata": {},
   "source": [
    "## Rewriting time_iteration\n"
   ]
  },
  {
   "cell_type": "markdown",
   "metadata": {},
   "source": [
    "### Check SGrid, CGrid, PGrid objects\n"
   ]
  },
  {
   "cell_type": "code",
   "execution_count": null,
   "metadata": {},
   "outputs": [],
   "source": [
    "using NoLib: SGrid, CGrid, PGrid, ×"
   ]
  },
  {
   "cell_type": "markdown",
   "metadata": {},
   "source": [
    "### Check GArray object\n"
   ]
  },
  {
   "cell_type": "code",
   "execution_count": null,
   "metadata": {},
   "outputs": [],
   "source": [
    "### GArray objects represent a vector of points, matching the geometry of the grid\n",
    "### Create constant initial guess\n",
    "using Garray\n",
    "x0 = ..."
   ]
  },
  {
   "cell_type": "markdown",
   "metadata": {},
   "source": [
    "### Compare On-grid and off-grid indexing (cf interp.jl)\n",
    "\n",
    "x0[]\n",
    "x0()"
   ]
  },
  {
   "cell_type": "markdown",
   "metadata": {},
   "source": [
    "### Check the transition iterator $\\tau$\n"
   ]
  },
  {
   "cell_type": "code",
   "execution_count": null,
   "metadata": {},
   "outputs": [],
   "source": []
  },
  {
   "cell_type": "markdown",
   "metadata": {},
   "source": [
    "### Write the optimality function `F(model, s, x, x0::GArray)` where s is a grid point, x a controls and  x0 a vector of controls\n"
   ]
  },
  {
   "cell_type": "code",
   "execution_count": null,
   "metadata": {},
   "outputs": [],
   "source": []
  },
  {
   "cell_type": "markdown",
   "metadata": {},
   "source": [
    "### Vectorize the optimality function `F(model, x1, x0)`\n"
   ]
  },
  {
   "cell_type": "code",
   "execution_count": null,
   "metadata": {},
   "outputs": [],
   "source": []
  },
  {
   "cell_type": "markdown",
   "metadata": {},
   "source": [
    "### Given x1, compute the derivative w.r.t. x0. Solve for the optimal x1 given x0.\n"
   ]
  },
  {
   "cell_type": "code",
   "execution_count": null,
   "metadata": {},
   "outputs": [],
   "source": []
  },
  {
   "cell_type": "markdown",
   "metadata": {},
   "source": [
    "### Compute the derivative w.r.t. x1. Make an improvement step.\n"
   ]
  },
  {
   "cell_type": "code",
   "execution_count": null,
   "metadata": {},
   "outputs": [],
   "source": []
  },
  {
   "cell_type": "markdown",
   "metadata": {},
   "source": [
    "### Write a time iteration method with an improvement option.\n"
   ]
  },
  {
   "cell_type": "markdown",
   "metadata": {},
   "source": []
  }
 ],
 "metadata": {
  "kernelspec": {
   "display_name": "Julia 1.8.0",
   "language": "julia",
   "name": "julia-1.8"
  },
  "language_info": {
   "file_extension": ".jl",
   "mimetype": "application/julia",
   "name": "julia",
   "version": "1.8.0"
  },
  "orig_nbformat": 4
 },
 "nbformat": 4,
 "nbformat_minor": 2
}
